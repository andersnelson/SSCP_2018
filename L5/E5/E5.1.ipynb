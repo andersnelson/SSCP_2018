{
 "cells": [
  {
   "cell_type": "markdown",
   "metadata": {},
   "source": [
    "# E6.1 — Building ion current models from data \n",
    "\n",
    "This notebook contains interactive exercises related to the L5 and L6 sessions of the SSCP2018. \n",
    "\n",
    "With these exercises we will begin applying some conventional approaches to using voltage-clamp data to parameterize ion channel models. A first step is for us to construct the steady-state activation curve for the fast cardiac sodium current from an existing data set.\n",
    "\n",
    "Let's import the data."
   ]
  },
  {
   "cell_type": "code",
   "execution_count": null,
   "metadata": {
    "collapsed": true
   },
   "outputs": [],
   "source": [
    "import neo\n",
    "import pylab as plt\n",
    "import numpy as np\n",
    "import matplotlib.pylab as plt\n",
    "%matplotlib inline"
   ]
  },
  {
   "cell_type": "code",
   "execution_count": null,
   "metadata": {},
   "outputs": [],
   "source": [
    "sweep_num = 15 # the number of voltage steps\n",
    "V_steps = np.linspace(-120, 20, 15) # the voltage step values\n",
    "SR = 5 #(kHz)\n",
    "sweep_length = 5000 #(points)\n",
    "sweep_duration = sweep_length/SR #(ms)\n",
    "time = np.linspace(0.2, sweep_duration, sweep_length) # construct the time vector\n",
    "I = np.zeros(shape=(sweep_length,sweep_num)) # initialize the data array\n",
    "\n",
    "f = neo.io.AxonIO('Active.abf')\n",
    "bl = f.read_block()\n",
    "for idx, seg in enumerate(bl.segments):\n",
    "    data = np.array(seg.analogsignals[0])\n",
    "    I[:,idx] = data[:,0]\n",
    "    plt.plot(time, I) \n",
    "    plt.xlabel('time [ms]') \n",
    "    plt.ylabel('Measured current [pA]'); \n",
    "    plt.xlim([260, 280])\n",
    "    plt.ylim([-3500, 2000])\n",
    "plt.show()"
   ]
  },
  {
   "cell_type": "markdown",
   "metadata": {},
   "source": [
    "\n",
    "\n",
    "And with some simple peak-finding we can have the maximum imward $I_{Na}$ at each voltage to construct our steady-state activation curve:\n",
    "\n"
   ]
  },
  {
   "cell_type": "code",
   "execution_count": null,
   "metadata": {},
   "outputs": [],
   "source": [
    "peak = np.zeros(15) #initialize arrays to store the times, indices, and values of the peak for each voltage step\n",
    "peak_index = np.zeros(15)\n",
    "t_peak = np.zeros(15)\n",
    "\n",
    "# loop to find peaks and store them\n",
    "for i in range(sweep_num):\n",
    "    # define a search range for finding the peak inward current\n",
    "    start = int(5000*(266.6/1000))\n",
    "    finish = int(1500)\n",
    "    search = I[start:finish,i] \n",
    "    # find the peak value, its index, and the time at the peak\n",
    "    peak[i] = search.min()\n",
    "    peak_index[i] = search.argmin()+start\n",
    "    t_peak[i] = time[int(peak_index[i])]\n",
    "    # plot a close-up of the time-series for each voltage step and the peak you have picked out \n",
    "    plt.plot(time, I,t_peak,peak,'ro'); plt.xlabel('time [ms]'); plt.ylabel('Measured current [pA]');\n",
    "    plt.xlim([265, 275]); plt.ylim([-3500, 1000])\n",
    "plt.show()"
   ]
  },
  {
   "cell_type": "markdown",
   "metadata": {},
   "source": [
    "## Exercise: extracting the steady-state activation curve\n",
    "\n",
    "Now you have the peak values for the current at each step potential. The next exercises ask you to reduce it to varying degrees of detail, all to get to data that can be used to optimize the activation properties of a Na$^+$ channel model.\n",
    "\n",
    "#### 1. Plot the steady-state I-V relationship"
   ]
  },
  {
   "cell_type": "code",
   "execution_count": null,
   "metadata": {
    "collapsed": true
   },
   "outputs": [],
   "source": [
    "# Your code here:"
   ]
  },
  {
   "cell_type": "markdown",
   "metadata": {},
   "source": [
    "#### 2. Plot the steady-state g-V relationship\n",
    "Assume an extracellular Na$^+$ concentration of 130 mM and an intracellular concentration of 10 mM "
   ]
  },
  {
   "cell_type": "code",
   "execution_count": null,
   "metadata": {
    "collapsed": true
   },
   "outputs": [],
   "source": [
    "# Your code here:"
   ]
  },
  {
   "cell_type": "markdown",
   "metadata": {},
   "source": [
    "#### 3. Given the start made below, try to write a routine to calculate and plot the *INactivation* time constants"
   ]
  },
  {
   "cell_type": "code",
   "execution_count": null,
   "metadata": {
    "collapsed": true
   },
   "outputs": [],
   "source": [
    "from scipy.optimize import curve_fit\n",
    "\n",
    "tau = np.zeros(15)\n",
    "# define the decay function to this data range\n",
    "def exp_decay(t,A,K,C): \n",
    "    return np.array(A * np.exp(-K * t) + C)\n",
    "def exp_fit(t,y): \n",
    "    params, cov = curve_fit(exp_decay, t, y)\n",
    "    A, K, C = params\n",
    "    return A, K, C\n",
    "\n",
    "# Your code here:"
   ]
  }
 ],
 "metadata": {
  "kernelspec": {
   "display_name": "Python 3",
   "language": "python",
   "name": "python3"
  },
  "language_info": {
   "codemirror_mode": {
    "name": "ipython",
    "version": 3
   },
   "file_extension": ".py",
   "mimetype": "text/x-python",
   "name": "python",
   "nbconvert_exporter": "python",
   "pygments_lexer": "ipython3",
   "version": "3.6.1"
  }
 },
 "nbformat": 4,
 "nbformat_minor": 1
}
