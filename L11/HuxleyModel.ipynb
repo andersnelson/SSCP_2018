{
 "cells": [
  {
   "cell_type": "markdown",
   "metadata": {},
   "source": [
    "# Huxley model of contraction\n",
    "## Notebook prepared by: K.J. McCabe"
   ]
  },
  {
   "cell_type": "markdown",
   "metadata": {},
   "source": [
    "Here we will work through A.F. Huxley's formulation of muscle contraction, first outlined in his 1957 paper \"Muscle Structure and Theories of Contraction\".\n",
    "\n",
    "The model operates on several important assumptions regarding the crossbridge (XB) cycle:\n",
    "1. Disregard thin filament activation - only deals with the contractile machinery\n",
    "2. Operating in the plateau region of the length-tension relation\n",
    "3. Constant velocity on whole filament level\n",
    "4. Crossbridges always complete full cycle to detach and hydrolyze 1 ATP per cycle\n",
    "5. Interaction between one myosin near an actin site is independent of all other pairs of actin sites and myosins"
   ]
  },
  {
   "cell_type": "markdown",
   "metadata": {},
   "source": [
    "<img src=\"fig/Huxley_1.png\" width=600></img>\n",
    "**Figure** This diagram from Huxley's 1957 paper illustrates the simplified mechanism by which he hypothesized the myosin thick filament and actin thin filament slide in opposite directions during a contraction event. A = binding site on the actin thin filament,  M = myosin head, O = equilibrium position at which no force would be generated. The model assumes only 1D force is generated, parallel to both filaments."
   ]
  },
  {
   "cell_type": "markdown",
   "metadata": {
    "collapsed": true
   },
   "source": [
    "The main variable of significance in the Huxley model is x, displacement from the equilibrium. Over the population of the enormous amount of crossbridges in the cardiomyocyte, the model assumes a constant distribution $\\hat{h}$ in x between -l/2 and l/2 (where l is the distance between 2 action binding sites). \n",
    "\n",
    "<img src=\"fig/Prob_distribution.png\" width=300></img>"
   ]
  },
  {
   "cell_type": "markdown",
   "metadata": {},
   "source": [
    "If n(x,t) is a conditional probability describing the likelihood that a XB is attached given that the A site is at displacement x from equilibrium, at steady state:\n",
    "\n",
    "$$\\begin{align}\n",
    "\\frac{dn(x,t)}{dt} = 0\n",
    "\\end{align}\n",
    "$$\n",
    "\n",
    "Applying the chain rule,\n",
    "$$\\begin{align}\n",
    "\\frac{\\partial n}{\\partial x}\\frac{dx}{dt} + \\frac{\\partial n}{\\partial t}\\frac{dt}{dt} = 0\n",
    "\\end{align}\n",
    "$$\n",
    "This simplifies to \n",
    "$$\\begin{align}\n",
    "\\frac{\\partial n}{\\partial x}v + \\frac{\\partial n}{\\partial t} = 0\n",
    "\\end{align}\n",
    "$$\n",
    "\n",
    "$$\\begin{align}\n",
    "-v\\frac{\\partial n}{\\partial x} = \\frac{\\partial n}{\\partial t}\n",
    "\\end{align}\n",
    "$$"
   ]
  },
  {
   "cell_type": "markdown",
   "metadata": {},
   "source": [
    "$\\partial$n/$\\partial$t is equal to the rate of attachment to the A site minus the rate of detachment from the A site.\n",
    "$$\\begin{align}\n",
    "\\frac{\\partial n}{\\partial t} = f(x)[1-n(x,t)]-g(x)n(x,t)\n",
    "\\end{align}\n",
    "$$\n",
    "\n",
    "Remembering that we are at steady state where dn(x,t)/dt = 0, we can substitute n(x,t) with n(x).\n",
    "$$\\begin{align}\n",
    "\\frac{\\partial n(x)}{\\partial t} = f(x)[1-n(x)]-g(x)n(x)\n",
    "\\end{align}\n",
    "$$\n",
    "\n",
    "We can combine this with the above solution:\n",
    "$$\\begin{align}\n",
    "-v\\frac{\\partial n(x)}{\\partial x} = \\frac{\\partial n(x)}{\\partial t}\n",
    "\\end{align}\n",
    "$$\n",
    "\n",
    "$$\\begin{align}\n",
    "-v\\frac{\\partial n(x)}{\\partial x} = f(x)[1-n(x)]-g(x)n(x)\n",
    "\\end{align}\n",
    "$$"
   ]
  },
  {
   "cell_type": "markdown",
   "metadata": {},
   "source": [
    "The model defines rates $f$ and $g$ as piecewise functions of $x$, as described in the Figure below (units = 1/sec).\n",
    "\n",
    "$$\\begin{align}\n",
    "x<0: f(x) = 0, g(x) = g_2 \\\\\n",
    "0<x<h: f(x) = \\frac{f_1 x}{h}, g(x) = \\frac{g_1 x}{h} \\\\\n",
    "x>h: f(x) = 0, g(x) = \\frac{g_1 x}{h}\n",
    "\\end{align}\n",
    "$$\n",
    "<img src=\"fig/f_g_functions.png\" width=500></img>"
   ]
  },
  {
   "cell_type": "markdown",
   "metadata": {},
   "source": [
    "In order to solve the ODE in each of the 3 piecewise regions, we can apply the constraint that for V $\\neq$ 0, the solution is continuous, or \n",
    "\n",
    "$$\\begin{align}\n",
    "n(0^+)=n(0^-) \\\\\n",
    "n(h^+)=n(h^-)\n",
    "\\end{align}\n",
    "$$"
   ]
  },
  {
   "cell_type": "markdown",
   "metadata": {},
   "source": [
    "In Region 1, x<0:\n",
    "\n",
    "$$\\begin{align}\n",
    "-v\\frac{dn(x)}{dx} = f(x)[1-n(x)]-g(x)n(x) \\\\\n",
    "-v\\frac{dn(x)}{dx} = -g(x)n(x) \\\\\n",
    "-v\\frac{dn(x)}{dx} = -g_2n \\\\\n",
    "\\int{\\frac{dn}{n}} = \\int{\\frac{g_2}{v}dx}\\\\\n",
    "\\ln{n} = {\\frac{g_2}{v}dx}+ C_0\\\\\n",
    "n(x) = C_1e^{\\frac{g_2x}{v}}\n",
    "\\end{align}\n",
    "$$"
   ]
  },
  {
   "cell_type": "markdown",
   "metadata": {},
   "source": [
    "In Region 2, 0<x<h:\n",
    "\n",
    "$$\\begin{align}\n",
    "-v\\frac{dn(x)}{dx} = \\frac{f_1}{h}x[1-n]-\\frac{g_1}{h}xn \\\\\n",
    "-vh\\frac{dn(x)}{dx} = f_1x[1-n]-g_1xn \\\\\n",
    "-vh\\frac{dn(x)}{dx} = f_1x-(f_1+g_1)xn \\\\\n",
    "-vh\\frac{dn(x)}{dx} = x(f_1+g_1)(\\frac{f_1}{f_1+g_1})-n)\\\\\n",
    "\\int{\\frac{dn}{-n+\\frac{f_1}{f_1+g_1}}}=\\int{\\frac{f_1+g_1}{vh}xdx}\\\\\n",
    "\\ln{(-n+\\frac{f_1}{f_1+g_1})}=\\frac{f_1+g_1}{vh}\\frac{x^2}{2}+C_2\\\\\n",
    "-n+\\frac{f_1}{f_1+g_1}=e^{\\frac{f_1+g_1}{vh}\\frac{x^2}{2}+C_2}\\\\\n",
    "n = \\frac{f_1}{f_1+g_1}-C_3e^{\\frac{f_1+g_1}{vh}\\frac{x^2}{2}}\\\\\n",
    "\\end{align}\n",
    "$$"
   ]
  },
  {
   "cell_type": "markdown",
   "metadata": {},
   "source": [
    "In Region 3, x>h, no crossbridges can be attached, which is equivalent to n(x,t)= 0 for x>h.\n",
    "\n",
    "We can determine constants $C_1$ and $C_3$ using the continuity conditions: \n",
    "\n",
    "$$\\begin{align}\n",
    "n(h^+)=n(h^-) \\\\\n",
    "0 = \\frac{f_1}{f_1+g_1}-C_3e^{\\frac{f_1+g_1}{vh}\\frac{x^2}{2}} \\\\\n",
    "C_3 = \\frac{f_1}{f_1+g_1}e^{\\frac{f_1+g_1}{vh}\\frac{h^2}{2}}\n",
    "\\end{align}\n",
    "$$\n",
    "Substituting back into the original equation: \n",
    "$$\\begin{align}\n",
    "n(x) = \\frac{f_1}{f_1+g_1}(1-e^{-\\frac{f_1+g_1}{2vh}(h^2-x^2)})\n",
    "\\end{align}\n",
    "$$\n",
    "\n",
    "We can find $C_1$ using the other continuity condition: $n(0^-) = n(0^+)$\n",
    "\n",
    "$$\\begin{align}\n",
    "n(0^-)=C_1e^{\\frac{0x}{v}} = C_1\\\\\n",
    "n(0^+) = \\frac{f_1}{f_1+g_1}(1-e^{-\\frac{f_1+g_1}{2vh}h^2})\\\\\n",
    "C_1 = \\frac{f_1}{f_1+g_1}(1-e^{-\\frac{f_1+g_1}{2vh}h^2})\n",
    "\\end{align}\n",
    "$$\n",
    "Substituting back into the original equation,\n",
    "$$\\begin{align}\n",
    "n(x) = \\frac{f_1}{f_1+g_1}(1-e^{-\\frac{f_1+g_1}{2vh}h^2})e^{-\\frac{g_2x}{v}}\n",
    "\\end{align}\n",
    "$$"
   ]
  },
  {
   "cell_type": "markdown",
   "metadata": {},
   "source": [
    "Define $\\phi=\\frac{h}{S}(f_1+g_1)$ and $v = \\frac{S}{2}V$\n",
    "\n",
    "Where S = sarcomere length (~2um), V = normalized velocity (half sarcomeres/second)\n",
    "\n",
    "We can now define the 3 regions:\n",
    "\n",
    "$$\\begin{align}\n",
    "x<0: n(x) = \\frac{f_1}{f_1+g_1}(1-e^{-\\frac{\\phi}{V}})e^{-\\frac{g_2x}{SV}}\\\\\n",
    "0<x<h: n(x) = \\frac{f_1}{f_1+g_1}(1-e^{(\\frac{x^2}{h^2}-1)\\frac{\\phi}{V}})\\\\\n",
    "x>h: n(x) = 0\n",
    "\\end{align}\n",
    "$$"
   ]
  },
  {
   "cell_type": "markdown",
   "metadata": {},
   "source": [
    "Use the code below to explore how altering velocity (v) can change the relationship between x and n."
   ]
  },
  {
   "cell_type": "code",
   "execution_count": 1,
   "metadata": {
    "collapsed": true
   },
   "outputs": [],
   "source": [
    "# Import necessary packages\n",
    "import numpy as np\n",
    "import matplotlib.pyplot as plt\n",
    "from scipy.integrate import odeint\n",
    "%matplotlib inline"
   ]
  },
  {
   "cell_type": "code",
   "execution_count": 2,
   "metadata": {
    "collapsed": true
   },
   "outputs": [],
   "source": [
    "# Set Parameters\n",
    "S = 2e-3           #nm\n",
    "f1 = 4.333          #1/sec, attachment rate (0<x<h)\n",
    "g1 = 1.00              #1/sec\n",
    "g2 = 20.91          #1/sec\n",
    "l = 3e-5  #nm\n",
    "h = 1e-5   #nm\n",
    "delta_x = 1e-6      #nm\n",
    "k_spring = 10.00        #dyne/nm\n",
    "phi = (h/S)*(f1+g1)\n",
    "\n",
    "V = 0.03             #Normalized Velocity (half sarcomere length/second)"
   ]
  },
  {
   "cell_type": "code",
   "execution_count": 3,
   "metadata": {
    "collapsed": true
   },
   "outputs": [],
   "source": [
    "# Make a vector of points where solutions are to be computed\n",
    "dx = 1e-7\n",
    "X = 1.5\n",
    "x = np.arange(-X*h, X*h, dx)\n",
    "i = 0\n",
    "n=[None]*len(x)\n",
    "\n",
    "#compute solutions to piecewise function\n",
    "while i < len(x):\n",
    "    if x[i]<0:\n",
    "        n[i] = (f1/(f1+g1))*(1-np.exp(-phi/V))*np.exp(g2*x[i]/(S*V))\n",
    "    elif x[i]<h:\n",
    "        n[i] = (f1/(f1+g1))*(1-np.exp(((np.power(x[i],2)/np.power(h,2))-1)*(phi/V)))\n",
    "    else:\n",
    "        n[i] = 0\n",
    "    i+=1\n",
    "\n",
    "x_plot = x/h\n"
   ]
  },
  {
   "cell_type": "code",
   "execution_count": 4,
   "metadata": {},
   "outputs": [
    {
     "data": {
      "image/png": "[encoded data removed]",
      "text/plain": [
       "<matplotlib.figure.Figure at 0x113d6b0f0>"
      ]
     },
     "metadata": {},
     "output_type": "display_data"
    }
   ],
   "source": [
    "# Plot data with labels\n",
    "plt.plot(x_plot, n)\n",
    "\n",
    "plt.xlabel('x/h')\n",
    "plt.ylabel('number of attached XBs')\n",
    "plt.xlim(-1.5, 1.0)\n",
    "plt.ylim(0,1)\n",
    "\n",
    "plt.show()"
   ]
  },
  {
   "cell_type": "markdown",
   "metadata": {},
   "source": [
    "Now, we wish to generate a Force-Velocity relation. We will define force generated by a single XB as: \n",
    "$$\\begin{align}\n",
    "force_{XB} = kx\n",
    "\\end{align}\n",
    "$$\n",
    "So, the sum total of force generated by all crossbridges will depend on the probability distribution of $x$. We can write a function for $<T>$, or the expected value of tension, by adding the expected force produced by all attached XBs and the expected force produces by all detached XBs. \n",
    "$$\\begin{align}\n",
    "<T_{XB}> = \\int_{-\\inf}^{\\inf}(kx\\hat{n}(x)+0*(\\hat{h}(x)-\\hat{n}(x))) dx\\\\\n",
    "<T_{XB}> = \\int_{-\\inf}^{\\inf}(kx\\hat{n}(x)) dx\n",
    "\\end{align}\n",
    "$$"
   ]
  },
  {
   "cell_type": "markdown",
   "metadata": {},
   "source": [
    "Recalling that we are assuming a constant probability distribution, and that $\\hat{n}(x) = n(x)*\\hat{h}(x)$ (or: total attached A sites = conditional probability of attachment * probability distribution in x),\n",
    "<img src=\"fig/Prob_distribution.png\" width=300></img>\n",
    "$$\\begin{align}\n",
    "\\begin{cases} \n",
    "      n(x)/l & l/2<x<l/2 \\\\\n",
    "      0 & other \\\\\n",
    "\\end{cases}\n",
    "\\end{align}\n",
    "$$\n",
    "So substituting this into our expected value of tension,\n",
    "$$\\begin{align}\n",
    "<T_{XB}> = \\int_{-\\inf}^{\\inf}(kx\\hat{n}(x)) dx\\\\\n",
    "<T_{XB}> = \\int_{-l/2}^{l/2}\\frac{kx}{l}n(x) dx\n",
    "\\end{align}\n",
    "$$\n",
    "We plot this function below.\n"
   ]
  },
  {
   "cell_type": "code",
   "execution_count": 14,
   "metadata": {
    "collapsed": true
   },
   "outputs": [],
   "source": [
    "#compute the derivative of tension for -l/2 < x < l/2\n",
    "\n",
    "    \n",
    "# Plot data \n",
    "\n"
   ]
  },
  {
   "cell_type": "markdown",
   "metadata": {},
   "source": [
    "Substituting for n(x) and integrating, we arrive at:\n",
    "$$\\begin{align}\n",
    "<T_{XB}> = \\frac{f_1}{f_1+g_1}\\frac{kh^2}{2l}(1-\\frac{V}{\\phi}e^{-\\frac{\\phi}{V}})(1+\\frac{1}{2}(\\frac{f_1+g_1}{g_2})^2\\frac{V}{\\phi}))\\\\\n",
    "\\end{align}\n",
    "$$\n",
    "\n",
    "In the case of isometric force, v=0 and $<T>=<T^{max}_{XB}>$\n",
    "$$\\begin{align}\n",
    "<T^{max}_{XB}> = \\frac{f_1}{f_1+g_1}\\frac{kh^2}{2l}\n",
    "\\end{align}\n",
    "$$"
   ]
  },
  {
   "cell_type": "code",
   "execution_count": 16,
   "metadata": {
    "collapsed": true
   },
   "outputs": [],
   "source": [
    "#Compute the Tension for V=0.03, in units of T/Tmax"
   ]
  },
  {
   "cell_type": "code",
   "execution_count": null,
   "metadata": {
    "collapsed": true
   },
   "outputs": [],
   "source": [
    "#write code to generate Force-Velocity relationship"
   ]
  },
  {
   "cell_type": "code",
   "execution_count": 15,
   "metadata": {
    "collapsed": true
   },
   "outputs": [],
   "source": [
    "# Plot data with labels"
   ]
  },
  {
   "cell_type": "markdown",
   "metadata": {},
   "source": [
    "The best parameters to fit the experimental data shown in the Huxley paper are: \n",
    "$$\\begin{align}\n",
    "\\frac{g_1}{f_1+g_1} = \\frac{3}{16}\\\\\n",
    "\\frac{g_2}{f_1+g_1} = 3.919\n",
    "\\end{align}\n",
    "$$\n",
    "<img src=\"fig/Force_Velocity_Huxley.png\" width=300></img>"
   ]
  },
  {
   "cell_type": "code",
   "execution_count": null,
   "metadata": {
    "collapsed": true
   },
   "outputs": [],
   "source": []
  }
 ],
 "metadata": {
  "kernelspec": {
   "display_name": "Python 3",
   "language": "python",
   "name": "python3"
  },
  "language_info": {
   "codemirror_mode": {
    "name": "ipython",
    "version": 3
   },
   "file_extension": ".py",
   "mimetype": "text/x-python",
   "name": "python",
   "nbconvert_exporter": "python",
   "pygments_lexer": "ipython3",
   "version": "3.6.3"
  }
 },
 "nbformat": 4,
 "nbformat_minor": 2
}
