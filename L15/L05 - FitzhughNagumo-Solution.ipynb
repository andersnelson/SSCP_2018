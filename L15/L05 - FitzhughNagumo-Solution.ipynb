{
 "cells": [
  {
   "cell_type": "markdown",
   "metadata": {},
   "source": [
    "# FitzHugh--Nagumo model"
   ]
  },
  {
   "cell_type": "markdown",
   "metadata": {},
   "source": [
    "The FitzHugh–Nagumo model represents a model for the\n",
    "study of excitable media. The propagation of the transmembrane potential $u$ is modeled by a diffusion equation with a cubic nonlinear reaction term, whereas the recovery of the slow variable $v$ is represented by a single ordinary differential equation. The system of equations reads as follows:\n",
    "\n",
    "\\begin{align}\n",
    "\\frac{\\partial u}{\\partial t} &= D \\Delta u + u(1-u)(u-a) -v + S  \\qquad \\text{ for } x \\in \\Omega \\text{ and for } t \\in [0, T], \\\\\n",
    "\\frac{\\partial v}{\\partial t} &= \\epsilon (\\beta u - \\gamma v) \\qquad x \\in \\Omega \\text{ and for } t \\in [0, T]\n",
    "\\end{align}\n",
    "\n",
    "$\\Omega$ denotes the spatial domain and $t$ is time. We consider the following choice of model parameters: $K_u = 0.001$, $a = 0.1$, $\\epsilon = 0.01$,\n",
    "$\\beta = 0.5$, $\\gamma = 1.0.$ These parameters generate stable patterns in  the system in the form of re--entrant spiral waves.\n",
    "\n",
    "$S$ is a stimulus that we use to perturb the system."
   ]
  },
  {
   "cell_type": "markdown",
   "metadata": {},
   "source": [
    " # Semi-discrete problem and weak formulation"
   ]
  },
  {
   "cell_type": "markdown",
   "metadata": {},
   "source": [
    "At each time step we have the semidiscretized system to solve:\n",
    "\n",
    "\\begin{align}\n",
    "\\frac{u^n - u^{n-1}}{\\Delta t} &= D \\Delta u^n + u^n(1-u^n)(u^n-a) - v^n + S  \\qquad \\text{ for } x \\in \\Omega \\text{ and for } t \\in [0, T], \\\\\n",
    "\\frac{v^n - v^{n-1}}{\\Delta t} &= \\epsilon (\\beta u^n - \\gamma v^n) \\qquad x \\in \\Omega \\text{ and for } t \\in [0, T]\n",
    "\\end{align}\n",
    "\n",
    "The weak formulation reads as follows:\n",
    "\n",
    "Find $u^n$, $v^n$ s.t. \n",
    "\n",
    "\\begin{align}\n",
    "\\langle \\frac{u^n - u^{n-1}}{\\Delta t}, \\psi_u \\rangle &= - D \\langle \\nabla u^n, \\nabla \\psi_u \\rangle + \\langle u^n(1-u^n)(u^n-a), \\psi_u \\rangle - \\langle v^n, \\psi_u \\rangle + \\langle S, \\psi_u \\rangle \\qquad \\text{ for } x \\in \\Omega \\text{ and for } t \\in [0, T], \\\\\n",
    "\\langle \\frac{v^n - v^{n-1}}{\\Delta t}, \\psi_v\\rangle &= \\epsilon (\\beta \\langle u^n, \\psi_v \\rangle - \\langle \\gamma v^n, \\psi_v \\rangle ) \\qquad x \\in \\Omega \\text{ and for } t \\in [0, T]  \\text{ and for all} \\quad \\psi_u, \\psi_v\n",
    "\\end{align}"
   ]
  },
  {
   "cell_type": "markdown",
   "metadata": {},
   "source": [
    "## FEniCS implementation"
   ]
  },
  {
   "cell_type": "markdown",
   "metadata": {},
   "source": [
    "First, we define our domain and finite elements. We have a system of two equations, therefore we will use a Mixed Function Space where the first component is $u$ and the second is $v$."
   ]
  },
  {
   "cell_type": "code",
   "execution_count": 4,
   "metadata": {
    "collapsed": true
   },
   "outputs": [],
   "source": [
    "from dolfin import *\n",
    "%matplotlib inline\n",
    "import pylab\n",
    "\n",
    "# Define the mesh\n",
    "N = 32\n",
    "mesh = RectangleMesh(Point(0, 0), Point(2.5, 2.5), N, N)\n",
    "\n",
    "# Define the mixed finite elements\n",
    "Ue = FiniteElement(\"CG\", mesh.ufl_cell(), 1)\n",
    "Us = FunctionSpace(mesh, Ue)\n",
    "\n",
    "element = MixedElement([Ue,Ue])\n",
    "ME = FunctionSpace(mesh, element)\n",
    "\n",
    "\n",
    "# Lower the log level to get more verbose output\n",
    "set_log_level(40)\n"
   ]
  },
  {
   "cell_type": "markdown",
   "metadata": {},
   "source": [
    "We need to define our stimulus $S$ and boundary conditions: "
   ]
  },
  {
   "cell_type": "code",
   "execution_count": 5,
   "metadata": {
    "collapsed": true
   },
   "outputs": [],
   "source": [
    "def BC_U_and_stim(t):\n",
    "    ## returns tuple of BCs to apply (to V) and stimulus term at time t\n",
    "    ## What happens when you play with this parameters?\n",
    "    start_stim_end_time = 6\n",
    "    stimstarttime = 150\n",
    "    stimduration = 6.\n",
    "    stimamp = 0.8\n",
    "    \n",
    "    if t < start_stim_end_time:\n",
    "        # set a Dirichlet boundary condition of u=1 at left edge of the domain, but no stimulus term S\n",
    "        subdomain = CompiledSubDomain(\"near(x[0], 0) && on_boundary\")\n",
    "        return [DirichletBC(ME.sub(0), Constant(1), subdomain)], Constant(0)\n",
    "    \n",
    "    elif t > stimstarttime and t < stimstarttime + stimduration:\n",
    "        # have no Dirichlet boundary conditions, but a stimulus in the bottom left quarter of the domain\n",
    "        class Stimulus(UserExpression):\n",
    "            def eval(self, value, x):\n",
    "                if x[0] < 1.25 and x[1] < 1.25:\n",
    "                    value[0] = stimamp\n",
    "                else:\n",
    "                    value[0] = 0    \n",
    "        return [], Stimulus(degree=2)\n",
    "\n",
    "    else:\n",
    "        # no stimulus and no Dirichlet boundrary conditions\n",
    "        return [], Constant(0)\n"
   ]
  },
  {
   "cell_type": "markdown",
   "metadata": {},
   "source": [
    "For each time step we need to solve a linear system. We define parameters, trial and test functions, and weak formulation. In FEniCS it is possible to obtain the Jacobian of the nonlinear equations automatically:"
   ]
  },
  {
   "cell_type": "code",
   "execution_count": 6,
   "metadata": {
    "collapsed": true
   },
   "outputs": [],
   "source": [
    "def solve_single_timestep(Up, t):\n",
    "    u_p, v_p = Up.sub(0), Up.sub(1)\n",
    "    U = Function(ME)\n",
    "    dU = TrialFunction(ME)\n",
    "    psiU = TestFunction(ME)\n",
    "\n",
    "    u, v = split(U)\n",
    "    psiu, psiv = split(psiU)\n",
    "\n",
    "\n",
    "    a = Constant(0.1)\n",
    "    eps = Constant(0.01)\n",
    "    beta = Constant(0.5)\n",
    "    gamma = Constant(1)\n",
    "    D = Constant(1E-4)\n",
    "    dtc = Constant(dt)\n",
    "    \n",
    "    bcs, stim = BC_U_and_stim(t)\n",
    " \n",
    "    def RHS_E1(v, w):\n",
    "        return - D*inner(grad(u), grad(psiu)) + psiu *u*(1-u)*(u-a)  - w*psiu  + stim*psiu\n",
    "    def RHS_E2(v, w):\n",
    "        return eps*(beta*v - gamma*w)*psiv\n",
    "    \n",
    "    theta = 1. # implicit Euler\n",
    "    # theta = 0.5 # Crank-Nicholson\n",
    "    \n",
    "    F1 = (u - u_p)/dtc * psiu * dx - (theta * RHS_E1(u, v_p) + (1-theta) * RHS_E1(u_p, v_p)) * dx\n",
    "    F2 = (v - v_p)/dtc * psiv * dx - (theta * RHS_E2(u, v) + (1-theta) * RHS_E2(u_p, v_p)) * dx\n",
    "\n",
    "\n",
    "\n",
    "    F = F1 + F2\n",
    "    \n",
    "    # Automatic differentiation! Isn't it cool?\n",
    "    J = derivative(F, U, dU)\n",
    "    \n",
    "    # Define non linear variational problem\n",
    "    problem = NonlinearVariationalProblem(F, U, bcs, J)\n",
    "    \n",
    "    # Assign initial guess to Newton solver\n",
    "    # Try to remove this, what happens?\n",
    "    assign(U.sub(0), u_p)\n",
    "    assign(U.sub(1), v_p)\n",
    "\n",
    "    # Newton solver\n",
    "    solver = NonlinearVariationalSolver(problem)\n",
    "    niter, _ = solver.solve()\n",
    "\n",
    "    print(\"t=%4.2f, number of Newton iterations=%2.0f\\r\" %(t, niter))\n",
    "\n",
    "    return U\n"
   ]
  },
  {
   "cell_type": "markdown",
   "metadata": {},
   "source": [
    "Once we defined the weak formulation and the nonlinear solver we can solve our equations for $t \\leq T$:"
   ]
  },
  {
   "cell_type": "code",
   "execution_count": 7,
   "metadata": {},
   "outputs": [
    {
     "name": "stdout",
     "output_type": "stream",
     "text": [
      "t=4.00, number of Newton iterations= 5\n",
      "t=8.00, number of Newton iterations= 5\n",
      "t=12.00, number of Newton iterations= 7\n",
      "t=16.00, number of Newton iterations= 5\n",
      "t=20.00, number of Newton iterations= 7\n",
      "t=24.00, number of Newton iterations= 5\n",
      "t=28.00, number of Newton iterations= 6\n",
      "t=32.00, number of Newton iterations= 7\n",
      "t=36.00, number of Newton iterations= 6\n",
      "t=40.00, number of Newton iterations= 7\n",
      "t=44.00, number of Newton iterations= 6\n",
      "t=48.00, number of Newton iterations= 7\n",
      "t=52.00, number of Newton iterations=14\n",
      "t=56.00, number of Newton iterations= 8\n",
      "t=60.00, number of Newton iterations= 6\n",
      "t=64.00, number of Newton iterations= 7\n",
      "t=68.00, number of Newton iterations= 7\n",
      "t=72.00, number of Newton iterations= 7\n",
      "t=76.00, number of Newton iterations= 7\n",
      "t=80.00, number of Newton iterations= 6\n",
      "t=84.00, number of Newton iterations= 7\n",
      "t=88.00, number of Newton iterations= 7\n",
      "t=92.00, number of Newton iterations= 7\n",
      "t=96.00, number of Newton iterations= 7\n",
      "t=100.00, number of Newton iterations= 6\n",
      "t=104.00, number of Newton iterations= 7\n",
      "t=108.00, number of Newton iterations= 6\n",
      "t=112.00, number of Newton iterations= 7\n",
      "t=116.00, number of Newton iterations= 7\n",
      "t=120.00, number of Newton iterations= 7\n",
      "t=124.00, number of Newton iterations= 7\n",
      "t=128.00, number of Newton iterations= 7\n",
      "t=132.00, number of Newton iterations= 7\n",
      "t=136.00, number of Newton iterations= 6\n",
      "t=140.00, number of Newton iterations= 7\n",
      "t=144.00, number of Newton iterations= 7\n",
      "t=148.00, number of Newton iterations= 7\n",
      "t=152.00, number of Newton iterations=15\n",
      "t=156.00, number of Newton iterations= 7\n",
      "t=160.00, number of Newton iterations= 7\n",
      "t=164.00, number of Newton iterations=14\n",
      "t=168.00, number of Newton iterations= 9\n",
      "t=172.00, number of Newton iterations= 8\n",
      "t=176.00, number of Newton iterations= 8\n",
      "t=180.00, number of Newton iterations= 9\n",
      "t=184.00, number of Newton iterations= 7\n",
      "t=188.00, number of Newton iterations=10\n",
      "t=192.00, number of Newton iterations=14\n",
      "t=196.00, number of Newton iterations= 7\n",
      "t=200.00, number of Newton iterations= 7\n",
      "t=204.00, number of Newton iterations= 7\n",
      "t=208.00, number of Newton iterations= 7\n",
      "t=212.00, number of Newton iterations= 7\n",
      "t=216.00, number of Newton iterations= 7\n",
      "t=220.00, number of Newton iterations= 7\n",
      "t=224.00, number of Newton iterations= 7\n",
      "t=228.00, number of Newton iterations=10\n",
      "t=232.00, number of Newton iterations= 8\n",
      "t=236.00, number of Newton iterations= 9\n",
      "t=240.00, number of Newton iterations= 7\n",
      "t=244.00, number of Newton iterations= 7\n",
      "t=248.00, number of Newton iterations= 7\n",
      "t=252.00, number of Newton iterations= 7\n",
      "t=256.00, number of Newton iterations= 7\n",
      "t=260.00, number of Newton iterations= 7\n",
      "t=264.00, number of Newton iterations= 7\n",
      "t=268.00, number of Newton iterations= 9\n",
      "t=272.00, number of Newton iterations= 8\n",
      "t=276.00, number of Newton iterations= 8\n",
      "t=280.00, number of Newton iterations= 6\n",
      "t=284.00, number of Newton iterations= 7\n",
      "t=288.00, number of Newton iterations= 7\n",
      "t=292.00, number of Newton iterations= 6\n",
      "t=296.00, number of Newton iterations= 6\n",
      "t=300.00, number of Newton iterations= 6\n",
      "t=304.00, number of Newton iterations= 7\n",
      "t=308.00, number of Newton iterations= 6\n",
      "t=312.00, number of Newton iterations= 7\n",
      "t=316.00, number of Newton iterations= 6\n",
      "t=320.00, number of Newton iterations= 7\n",
      "t=324.00, number of Newton iterations= 7\n",
      "t=328.00, number of Newton iterations= 7\n",
      "t=332.00, number of Newton iterations= 7\n",
      "t=336.00, number of Newton iterations= 7\n",
      "t=340.00, number of Newton iterations= 6\n",
      "t=344.00, number of Newton iterations= 7\n",
      "t=348.00, number of Newton iterations= 7\n",
      "t=352.00, number of Newton iterations= 7\n",
      "t=356.00, number of Newton iterations= 7\n",
      "t=360.00, number of Newton iterations= 7\n",
      "t=364.00, number of Newton iterations= 7\n",
      "t=368.00, number of Newton iterations= 7\n",
      "t=372.00, number of Newton iterations= 6\n",
      "t=376.00, number of Newton iterations= 8\n",
      "t=380.00, number of Newton iterations= 7\n",
      "t=384.00, number of Newton iterations= 7\n",
      "t=388.00, number of Newton iterations= 6\n",
      "t=392.00, number of Newton iterations= 7\n",
      "t=396.00, number of Newton iterations= 7\n",
      "t=400.00, number of Newton iterations= 7\n",
      "t=404.00, number of Newton iterations= 8\n",
      "t=408.00, number of Newton iterations= 7\n",
      "t=412.00, number of Newton iterations= 7\n",
      "t=416.00, number of Newton iterations= 7\n",
      "t=420.00, number of Newton iterations= 8\n",
      "t=424.00, number of Newton iterations= 7\n",
      "t=428.00, number of Newton iterations= 7\n",
      "t=432.00, number of Newton iterations= 7\n",
      "t=436.00, number of Newton iterations= 7\n",
      "t=440.00, number of Newton iterations= 7\n",
      "t=444.00, number of Newton iterations= 9\n",
      "t=448.00, number of Newton iterations= 8\n",
      "t=452.00, number of Newton iterations= 7\n",
      "t=456.00, number of Newton iterations= 7\n",
      "t=460.00, number of Newton iterations= 8\n",
      "t=464.00, number of Newton iterations= 7\n",
      "t=468.00, number of Newton iterations= 7\n",
      "t=472.00, number of Newton iterations= 7\n",
      "t=476.00, number of Newton iterations= 8\n",
      "t=480.00, number of Newton iterations= 8\n",
      "t=484.00, number of Newton iterations= 8\n",
      "t=488.00, number of Newton iterations= 6\n",
      "t=492.00, number of Newton iterations= 6\n",
      "t=496.00, number of Newton iterations= 6\n",
      "t=500.00, number of Newton iterations= 7\n",
      "t=504.00, number of Newton iterations= 7\n"
     ]
    },
    {
     "data": {
      "text/plain": [
       "<matplotlib.figure.Figure at 0x7f3a40157650>"
      ]
     },
     "metadata": {},
     "output_type": "display_data"
    }
   ],
   "source": [
    "# initial conditions\n",
    "u_p = Function(Us)\n",
    "v_p = Function(Us)\n",
    "U = Function(ME)\n",
    "\n",
    "# run solver\n",
    "fv = File(\"output/u.pvd\")\n",
    "fw = File(\"output/v.pvd\")\n",
    "\n",
    "t = 0\n",
    "dt = 4.\n",
    "T = 500\n",
    "\n",
    "U_sol = {}\n",
    "n = 0\n",
    "\n",
    "fig = pylab.figure()\n",
    "while t <= T:\n",
    "    t += dt\n",
    "    n += 1\n",
    "    U = solve_single_timestep(U, t)\n",
    "    u_p.rename(\"u\", \"descr\")\n",
    "    v_p.rename(\"v\", \"descr\")\n",
    "    \n",
    "    U_sol[n] = (t, U.copy())\n",
    "    \n",
    "    fv << u_p\n",
    "    fw << v_p\n"
   ]
  },
  {
   "cell_type": "code",
   "execution_count": 18,
   "metadata": {},
   "outputs": [
    {
     "data": {
      "application/vnd.jupyter.widget-view+json": {
       "model_id": "97e7527afee64e30b5f9c619ec666318",
       "version_major": 2,
       "version_minor": 0
      },
      "text/html": [
       "<p>Failed to display Jupyter Widget of type <code>interactive</code>.</p>\n",
       "<p>\n",
       "  If you're reading this message in the Jupyter Notebook or JupyterLab Notebook, it may mean\n",
       "  that the widgets JavaScript is still loading. If this message persists, it\n",
       "  likely means that the widgets JavaScript library is either not installed or\n",
       "  not enabled. See the <a href=\"https://ipywidgets.readthedocs.io/en/stable/user_install.html\">Jupyter\n",
       "  Widgets Documentation</a> for setup instructions.\n",
       "</p>\n",
       "<p>\n",
       "  If you're reading this message in another frontend (for example, a static\n",
       "  rendering on GitHub or <a href=\"https://nbviewer.jupyter.org/\">NBViewer</a>),\n",
       "  it may mean that your frontend doesn't currently support widgets.\n",
       "</p>\n"
      ],
      "text/plain": [
       "interactive(children=(IntSlider(value=1, continuous_update=False, description=u'n', layout=Layout(width=u'80%'), max=126, min=1), Output()), _dom_classes=('widget-interact',))"
      ]
     },
     "metadata": {},
     "output_type": "display_data"
    },
    {
     "data": {
      "text/plain": [
       "<function __main__.plot_solution>"
      ]
     },
     "execution_count": 18,
     "metadata": {},
     "output_type": "execute_result"
    }
   ],
   "source": [
    "## make a 'slider-controlled movie'\n",
    "\n",
    "from ipywidgets import interact, interactive, fixed, interact_manual, IntSlider,  HBox, Label\n",
    "import ipywidgets as widgets\n",
    "\n",
    "def plot_solution(n):\n",
    "    t, U = U_sol[n]\n",
    "    pylab.subplot(1, 2, 1)\n",
    "    plot(U.sub(0), title=\"potential (t = {})\".format(t))\n",
    "    pylab.subplot(1, 2, 2)\n",
    "    plot(U.sub(1), title=\"recovery variable (t = {})\".format(t))\n",
    "    \n",
    "\n",
    "slider = IntSlider(min=min(U_sol.keys()), max=max(U_sol.keys()),continuous_update=False)\n",
    "slider.layout.width = \"80%\"\n",
    "interact(plot_solution,n=slider)"
   ]
  }
 ],
 "metadata": {
  "kernelspec": {
   "display_name": "Python (vasculatureenv)",
   "language": "python",
   "name": "vasculatureenv"
  },
  "language_info": {
   "codemirror_mode": {
    "name": "ipython",
    "version": 2
   },
   "file_extension": ".py",
   "mimetype": "text/x-python",
   "name": "python",
   "nbconvert_exporter": "python",
   "pygments_lexer": "ipython2",
   "version": "2.7.12"
  }
 },
 "nbformat": 4,
 "nbformat_minor": 2
}
